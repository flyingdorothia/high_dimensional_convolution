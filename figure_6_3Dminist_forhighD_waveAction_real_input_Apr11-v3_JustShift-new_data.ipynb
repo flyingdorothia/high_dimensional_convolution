{
 "cells": [
  {
   "cell_type": "code",
   "execution_count": 142,
   "id": "87bf50ff",
   "metadata": {},
   "outputs": [
    {
     "name": "stdout",
     "output_type": "stream",
     "text": [
      "Once deleted, variables cannot be recovered. Proceed (y/[n])? y\n"
     ]
    }
   ],
   "source": [
    "%reset\n",
    "import numpy as np\n",
    "from numpy.linalg import norm, inv\n",
    "import time\n",
    "import math\n",
    "from correct_final_code_feb24 import *\n",
    "import matplotlib.image as mpimg\n",
    "import matplotlib.pyplot as plt\n",
    "import medmnist\n",
    "from skimage.color import rgb2gray\n",
    "import torch.utils.data as data\n",
    "from medmnist import INFO, Evaluator"
   ]
  },
  {
   "cell_type": "code",
   "execution_count": 143,
   "id": "ceb0c195",
   "metadata": {},
   "outputs": [
    {
     "data": {
      "image/png": "[encoded data removed]",
      "text/plain": [
       "<Figure size 432x288 with 1 Axes>"
      ]
     },
     "metadata": {
      "needs_background": "light"
     },
     "output_type": "display_data"
    }
   ],
   "source": [
    "# https://keras.io/examples/vision/3D_image_classification/\n",
    "# x_train = np.load(\"x_train_128by128by64.npy\")\n",
    "# print(x_train.shape)\n",
    "\n",
    "# (140, 128, 128, 64)\n",
    "# # print(\"NumPy array: \\n\", array_rain_fall_npy)\n",
    "# array_rain_fall = x_train[0:60, :, :]\n",
    "# np.save(\"saved-rain-fall-binary.npy\", array_rain_fall)\n",
    "\n",
    "\n",
    "Xread1 = mpimg.imread('input_images/ezgif-frame-004.jpg')\n",
    "from skimage.color import rgb2gray\n",
    "X_gray = rgb2gray(Xread1)\n",
    "X_gray1 = X_gray[40:90, 35:75]\n",
    "plt.imshow(X_gray1, cmap = 'gray', vmin = -0.163, vmax = 1)\n",
    "plt.axis('off')\n",
    "# plt.colorbar()\n",
    "plt.rcParams.update({'font.size': 28})\n",
    "plt.rcParams['font.family'] = 'Times New Roman'\n",
    "plt.savefig('result_all_correct_Mar11/Input3D_Action1_Apr11_V3.pdf', bbox_inches='tight')\n",
    "plt.show()\n",
    "\n",
    "# X_train = "
   ]
  },
  {
   "cell_type": "code",
   "execution_count": 144,
   "id": "7e7c14ac",
   "metadata": {},
   "outputs": [
    {
     "data": {
      "text/plain": [
       "(50, 40)"
      ]
     },
     "execution_count": 144,
     "metadata": {},
     "output_type": "execute_result"
    }
   ],
   "source": [
    "X_gray1.shape"
   ]
  },
  {
   "cell_type": "code",
   "execution_count": 145,
   "id": "5e8d6c0c",
   "metadata": {},
   "outputs": [
    {
     "data": {
      "image/png": "[encoded data removed]",
      "text/plain": [
       "<Figure size 432x288 with 1 Axes>"
      ]
     },
     "metadata": {
      "needs_background": "light"
     },
     "output_type": "display_data"
    }
   ],
   "source": [
    "\n",
    "Xread1 = mpimg.imread('input_images/ezgif-frame-005.jpg')\n",
    "from skimage.color import rgb2gray\n",
    "X_gray = rgb2gray(Xread1)\n",
    "X_gray2 = X_gray[40:90, 35:75]\n",
    "plt.imshow(X_gray2, cmap = 'gray', vmin = -0.163, vmax = 1)\n",
    "plt.axis('off')\n",
    "# plt.colorbar()\n",
    "plt.rcParams.update({'font.size': 28})\n",
    "plt.rcParams['font.family'] = 'Times New Roman'\n",
    "plt.savefig('result_all_correct_Mar11/Input3D_Action2_Apr11_V3.pdf', bbox_inches='tight')\n",
    "plt.show()"
   ]
  },
  {
   "cell_type": "code",
   "execution_count": 146,
   "id": "511b2767",
   "metadata": {},
   "outputs": [
    {
     "data": {
      "image/png": "[encoded data removed]",
      "text/plain": [
       "<Figure size 432x288 with 1 Axes>"
      ]
     },
     "metadata": {
      "needs_background": "light"
     },
     "output_type": "display_data"
    }
   ],
   "source": [
    "\n",
    "Xread1 = mpimg.imread('input_images/ezgif-frame-006.jpg')\n",
    "from skimage.color import rgb2gray\n",
    "X_gray = rgb2gray(Xread1)\n",
    "X_gray3 = X_gray[40:90, 35:75]\n",
    "plt.imshow(X_gray3, cmap = 'gray', vmin = -0.163, vmax = 1)\n",
    "plt.axis('off')\n",
    "# plt.colorbar()\n",
    "plt.rcParams.update({'font.size': 28})\n",
    "plt.rcParams['font.family'] = 'Times New Roman'\n",
    "plt.savefig('result_all_correct_Mar11/Input3D_Action3_Apr11_V3.pdf', bbox_inches='tight')\n",
    "plt.show()"
   ]
  },
  {
   "cell_type": "code",
   "execution_count": 147,
   "id": "0a61dedd",
   "metadata": {},
   "outputs": [
    {
     "data": {
      "image/png": "[encoded data removed]",
      "text/plain": [
       "<Figure size 432x288 with 1 Axes>"
      ]
     },
     "metadata": {
      "needs_background": "light"
     },
     "output_type": "display_data"
    }
   ],
   "source": [
    "\n",
    "Xread1 = mpimg.imread('input_images/ezgif-frame-007.jpg')\n",
    "from skimage.color import rgb2gray\n",
    "X_gray = rgb2gray(Xread1)\n",
    "X_gray4 = X_gray[40:90, 35:75]\n",
    "plt.imshow(X_gray4, cmap = 'gray', vmin = -0.163, vmax = 1)\n",
    "plt.axis('off')\n",
    "# plt.colorbar()\n",
    "plt.rcParams.update({'font.size': 28})\n",
    "plt.rcParams['font.family'] = 'Times New Roman'\n",
    "plt.savefig('result_all_correct_Mar11/Input3D_Action4_Apr11_V3.pdf', bbox_inches='tight')\n",
    "plt.show()"
   ]
  },
  {
   "cell_type": "code",
   "execution_count": 148,
   "id": "2ca00756",
   "metadata": {},
   "outputs": [
    {
     "data": {
      "image/png": "[encoded data removed]",
      "text/plain": [
       "<Figure size 432x288 with 1 Axes>"
      ]
     },
     "metadata": {
      "needs_background": "light"
     },
     "output_type": "display_data"
    }
   ],
   "source": [
    "\n",
    "Xread1 = mpimg.imread('input_images/ezgif-frame-008.jpg')\n",
    "from skimage.color import rgb2gray\n",
    "X_gray = rgb2gray(Xread1)\n",
    "X_gray5 = X_gray[40:90, 35:75]\n",
    "plt.imshow(X_gray4, cmap = 'gray', vmin = -0.163, vmax = 1)\n",
    "plt.axis('off')\n",
    "# plt.colorbar()\n",
    "plt.rcParams.update({'font.size': 28})\n",
    "plt.rcParams['font.family'] = 'Times New Roman'\n",
    "plt.savefig('result_all_correct_Mar11/Input3D_Action5_Apr11_V3.pdf', bbox_inches='tight')\n",
    "plt.show()"
   ]
  },
  {
   "cell_type": "code",
   "execution_count": 149,
   "id": "38dc02fa",
   "metadata": {},
   "outputs": [
    {
     "name": "stdout",
     "output_type": "stream",
     "text": [
      "(50, 40, 5)\n"
     ]
    }
   ],
   "source": [
    "\n",
    "x_new = np.stack((X_gray1,X_gray2, X_gray3, X_gray4, X_gray5), axis=2, out=None)\n",
    "print(x_new.shape)"
   ]
  },
  {
   "cell_type": "code",
   "execution_count": 150,
   "id": "3c5b938b",
   "metadata": {},
   "outputs": [],
   "source": [
    "# x_new = np.squeeze(x)\n",
    "x_new_pad = np.pad(x_new,((1, 1), (1, 1), (1, 1)), 'constant')\n",
    "a_input = x_new_pad.flatten()\n",
    "dim = a_input.shape[0]"
   ]
  },
  {
   "cell_type": "code",
   "execution_count": 151,
   "id": "d22bb029",
   "metadata": {},
   "outputs": [
    {
     "data": {
      "text/plain": [
       "15288"
      ]
     },
     "execution_count": 151,
     "metadata": {},
     "output_type": "execute_result"
    }
   ],
   "source": [
    "dim"
   ]
  },
  {
   "cell_type": "code",
   "execution_count": 152,
   "id": "befc9f49",
   "metadata": {},
   "outputs": [],
   "source": [
    "kernel_given = np.zeros((3,3,3))\n",
    "# kernel_given"
   ]
  },
  {
   "cell_type": "code",
   "execution_count": 153,
   "id": "049a9bcb",
   "metadata": {},
   "outputs": [],
   "source": [
    "central_Laplacian = np.array([[0, -1, 0],\n",
    "                              [-1, 4, -1],\n",
    "                              [0, -1, 0]])\n",
    "\n",
    "\n",
    "kernel_given[:,:,0] = -central_Laplacian\n",
    "\n",
    "kernel_given[:,:,1] = 2*central_Laplacian\n",
    "\n",
    "kernel_given[:,:,2] = -central_Laplacian\n",
    "\n"
   ]
  },
  {
   "cell_type": "code",
   "execution_count": 154,
   "id": "d4345089",
   "metadata": {},
   "outputs": [],
   "source": [
    "kernel_arr_neg, kernel_arr_pos, kernel_0 = kernel_flatten_3D(x_new_pad, kernel_given)\n"
   ]
  },
  {
   "cell_type": "code",
   "execution_count": 155,
   "id": "ce6a15c6",
   "metadata": {},
   "outputs": [
    {
     "data": {
      "text/plain": [
       "[<matplotlib.lines.Line2D at 0x7fca9efa9a00>]"
      ]
     },
     "execution_count": 155,
     "metadata": {},
     "output_type": "execute_result"
    },
    {
     "data": {
      "image/png": "[encoded data removed]",
      "text/plain": [
       "<Figure size 432x288 with 1 Axes>"
      ]
     },
     "metadata": {
      "needs_background": "light"
     },
     "output_type": "display_data"
    }
   ],
   "source": [
    "plt.plot(kernel_arr_neg)\n"
   ]
  },
  {
   "cell_type": "code",
   "execution_count": 156,
   "id": "b22d41e8",
   "metadata": {},
   "outputs": [
    {
     "name": "stdout",
     "output_type": "stream",
     "text": [
      "37.73572870634337\n"
     ]
    }
   ],
   "source": [
    "in_dim = x_new.shape[0]\n",
    "t_list = np.linspace(0, 2*np.pi, num=1000, endpoint=True)\n",
    "\n",
    "result_list = np.zeros(t_list.shape)\n",
    "\n",
    "# for all the t find the max of this\n",
    "index_list = np.arange(0, kernel_arr_neg.shape[0],1)+1\n",
    "for ii, t in enumerate(t_list):\n",
    "    result_list[ii] = abs(kernel_0 + sum(kernel_arr_neg*np.exp(-1j*index_list*t))+sum(kernel_arr_pos*np.exp(1j*index_list*t)))\n",
    "norm_fac = max(result_list*1.2)\n",
    "\n",
    "# norm_fac = 8.781027653077974\n",
    "\n",
    "print(norm_fac)"
   ]
  },
  {
   "cell_type": "code",
   "execution_count": 157,
   "id": "ce4256ad",
   "metadata": {},
   "outputs": [],
   "source": [
    "YDim = int(kernel_arr_neg.shape[0]*1.5)\n",
    "kappa_pos, kappa_neg, kappa0 = from_S_get_kappa_0718(kernel_arr_pos, kernel_arr_neg,\n",
    "                                                     kernel_0, norm_fac, YDim)"
   ]
  },
  {
   "cell_type": "code",
   "execution_count": 158,
   "id": "1972a13d",
   "metadata": {},
   "outputs": [],
   "source": [
    "# kappa is in the unit of gamma_e\n",
    "A_list, B_list, gamma0 = find_modulate_AmpPha_0718_without_angle(kappa_pos,\n",
    "                                                                 kappa_neg, kappa0)"
   ]
  },
  {
   "cell_type": "code",
   "execution_count": 159,
   "id": "c2e560e7",
   "metadata": {},
   "outputs": [],
   "source": [
    "alpha_list = np.pi/2*np.ones_like(A_list)\n",
    "beta_list = np.pi/2*np.ones_like(A_list)\n",
    "\n",
    "kappa_posBuild, kappa_negBuild, kappa0Build = forward_build_Xvec_0718_without_angle(A_list,\n",
    "                                                                                    B_list,\n",
    "                                                                                    gamma0)"
   ]
  },
  {
   "cell_type": "code",
   "execution_count": 160,
   "id": "0c7f8ed4",
   "metadata": {},
   "outputs": [],
   "source": [
    "kernel_arr_posBuild, kernel_arr_negBuild, kernel_0Build = from_kappa_get_S_0718(kappa_posBuild,\n",
    "                                                                                kappa_negBuild, \n",
    "                                                                                kappa0Build, \n",
    "                                                                                norm_fac, YDim)"
   ]
  },
  {
   "cell_type": "code",
   "execution_count": 161,
   "id": "6a6a13d9",
   "metadata": {},
   "outputs": [],
   "source": [
    "kernel_big_built = populate_matrix_posNeg(dim, kernel_arr_negBuild, \n",
    "                                          kernel_arr_posBuild, kernel_0Build)"
   ]
  },
  {
   "cell_type": "code",
   "execution_count": 162,
   "id": "54b2f443",
   "metadata": {},
   "outputs": [
    {
     "name": "stdout",
     "output_type": "stream",
     "text": [
      "(0.10009594061849601-1.5545001028039258e-21j)\n"
     ]
    }
   ],
   "source": [
    "gamma_e = np.log(2)/4/np.pi # in the unit of Omega\n",
    "gamma_e_t_R = gamma_e*2*np.pi\n",
    "\n",
    "print(gamma0*gamma_e)\n",
    "\n"
   ]
  },
  {
   "cell_type": "code",
   "execution_count": 163,
   "id": "185d6a75",
   "metadata": {},
   "outputs": [
    {
     "name": "stderr",
     "output_type": "stream",
     "text": [
      "/Applications/anaconda3/lib/python3.8/site-packages/numpy/core/_asarray.py:83: ComplexWarning: Casting complex values to real discards the imaginary part\n",
      "  return array(a, dtype, copy=False, order=order)\n"
     ]
    },
    {
     "data": {
      "text/plain": [
       "[<matplotlib.lines.Line2D at 0x7fca9ef39760>]"
      ]
     },
     "execution_count": 163,
     "metadata": {},
     "output_type": "execute_result"
    },
    {
     "data": {
      "image/png": "[encoded data removed]",
      "text/plain": [
       "<Figure size 432x288 with 1 Axes>"
      ]
     },
     "metadata": {
      "needs_background": "light"
     },
     "output_type": "display_data"
    }
   ],
   "source": [
    "plt.plot(kernel_arr_posBuild)"
   ]
  },
  {
   "cell_type": "code",
   "execution_count": 164,
   "id": "89882741",
   "metadata": {},
   "outputs": [
    {
     "name": "stdout",
     "output_type": "stream",
     "text": [
      "True\n"
     ]
    },
    {
     "data": {
      "text/plain": [
       "37.73572870634337"
      ]
     },
     "execution_count": 164,
     "metadata": {},
     "output_type": "execute_result"
    }
   ],
   "source": [
    "\n",
    "def passivity_metric(gamma0, B_list, beta_list):\n",
    "    t_list = np.arange(0, 2*np.pi, 0.01)\n",
    "    result_list = np.zeros(t_list.shape, dtype = complex)\n",
    "    \n",
    "    # for all the t find the max of this\n",
    "    index_list = np.arange(0, len(B_list),1)+1\n",
    "    for ii, t in enumerate(t_list):\n",
    "        result_list[ii] = sum(B_list*np.sin(index_list*t + beta_list))\n",
    "    constraint = max(result_list)\n",
    "    return gamma0 > constraint\n",
    "\n",
    "\n",
    "print(passivity_metric(gamma0, (B_list[:dim]), beta_list[:dim]))\n",
    "norm_fac"
   ]
  },
  {
   "cell_type": "code",
   "execution_count": 165,
   "id": "0bf943b7",
   "metadata": {},
   "outputs": [
    {
     "data": {
      "text/plain": [
       "(452,)"
      ]
     },
     "execution_count": 165,
     "metadata": {},
     "output_type": "execute_result"
    }
   ],
   "source": [
    "B_list.shape"
   ]
  },
  {
   "cell_type": "code",
   "execution_count": 166,
   "id": "0014d4fb",
   "metadata": {},
   "outputs": [],
   "source": [
    "cut_site1 = 0\n",
    "cut_site2 = A_list.shape[0]\n",
    "\n",
    "# result 2\n",
    "\n",
    "x1_plot = np.arange(0, len(A_list),1)+1\n",
    "\n",
    "y1_plot = A_list*gamma_e_t_R\n",
    "\n",
    "x2_plot = np.arange(0, len(A_list[cut_site1:cut_site2]),1)+1 + 0.5\n",
    "\n",
    "y2_plot = B_list*gamma_e_t_R\n",
    "\n",
    "\n",
    "\n",
    "# plt.legend(prop={'size': 20})"
   ]
  },
  {
   "cell_type": "code",
   "execution_count": 186,
   "id": "3a5f9c9a",
   "metadata": {},
   "outputs": [
    {
     "data": {
      "image/png": "[encoded data removed]",
      "text/plain": [
       "<Figure size 432x288 with 2 Axes>"
      ]
     },
     "metadata": {
      "needs_background": "light"
     },
     "output_type": "display_data"
    }
   ],
   "source": [
    "fig, (ax1, ax2) = plt.subplots(1, 2, sharey=True)\n",
    "fig.subplots_adjust(wspace=0.05)  # adjust space between axes\n",
    "\n",
    "# plot the same data on both axes\n",
    "\n",
    "ax1.bar(x1_plot, y1_plot, fc = 'r', width = 1, label = '$A_m$')\n",
    "ax1.bar(x2_plot, y2_plot, fc = 'b',  width = 1, label = '$B_m$')\n",
    "ax1.plot(x1_plot, y1_plot, color='red', linewidth=2)\n",
    "\n",
    "ax2.bar(x1_plot, y1_plot, fc = 'r', width = 1, label = '$A_m$')\n",
    "ax2.bar(x2_plot, y2_plot, fc = 'b',  width = 1, label = '$B_m$')\n",
    "ax2.plot(x1_plot, y1_plot, color='red', linewidth=2)\n",
    "\n",
    "\n",
    "# zoom-in / limit the view to different portions of the data\n",
    "ax1.set_xlim(0, 50.)  # outliers only\n",
    "ax2.set_xlim(270, 320)  # most of the data\n",
    "\n",
    "# hide the spines between ax and ax2\n",
    "ax1.spines['right'].set_visible(False)\n",
    "\n",
    "ax1.tick_params(labelright=False)\n",
    "ax1.legend(frameon=False, prop={'size': 20})\n",
    "\n",
    "ax2.spines['left'].set_visible(False)\n",
    "# ax1.xaxis.tick_top()   # don't put tick labels at the top\n",
    "ax2.tick_params(labelleft=False)   # don't put tick labels at the top\n",
    "# ax2.yaxis.tick_left()\n",
    "\n",
    "\n",
    "\n",
    "d = .5  # proportion of vertical to horizontal extent of the slanted line\n",
    "kwargs = dict(marker=[(-1, -d), (1, d)], markersize=12,\n",
    "              linestyle=\"none\", color='k', mec='k', mew=1, clip_on=False)\n",
    "ax1.plot([1,1], [1, 0], transform=ax1.transAxes, **kwargs)\n",
    "ax2.plot([0,0], [1, 0], transform=ax2.transAxes, **kwargs)\n",
    "\n",
    "plt.rc('xtick', labelsize=28)\n",
    "plt.rc('ytick', labelsize=28)\n",
    "plt.rcParams['font.family'] = 'Times New Roman'\n",
    "# ax0.set_yticks([0, 0.05, 0.1])\n",
    "plt.rcParams.update({'font.size': 28})\n",
    "\n",
    "ax1.set_xticks([0, 20, 40])\n",
    "ax2.set_xticks([280, 300, 320])\n",
    "\n",
    "plt.savefig('result_all_correct_Mar11/Figure6_Final_Amplitude_x_breakAxis_Apr11_V3.pdf', bbox_inches='tight')\n",
    "\n",
    "plt.show()"
   ]
  },
  {
   "cell_type": "code",
   "execution_count": 169,
   "id": "39a5986a",
   "metadata": {},
   "outputs": [
    {
     "data": {
      "image/png": "[encoded data removed]",
      "text/plain": [
       "<Figure size 432x288 with 1 Axes>"
      ]
     },
     "metadata": {
      "needs_background": "light"
     },
     "output_type": "display_data"
    }
   ],
   "source": [
    "# fig, axs = plt.subplots()\n",
    "# ax0 = axs\n",
    "# # result 2\n",
    "# cut_site = 500\n",
    "# plt.bar(np.arange(0, len(A_list[:cut_site]),1)+1, A_list[:cut_site]*gamma_e_t_R, fc = 'r', width = 4, label = '$A_m$')\n",
    "# plt.bar(np.arange(0, len(A_list[:cut_site]),1)+1 + 0.5, B_list[:cut_site]*gamma_e_t_R, fc = 'b',  width = 1, label = '$B_m$')\n",
    "# plt.plot(np.arange(0, len(A_list[:cut_site]),1)+1, A_list[:cut_site]*gamma_e_t_R, color='red', linewidth=2)\n",
    "\n",
    "# plt.legend(frameon=False, loc='lower right',prop={'size': 20})\n",
    "\n",
    "# plt.rc('xtick', labelsize=28)\n",
    "# plt.rc('ytick', labelsize=28)\n",
    "# plt.rcParams['font.family'] = 'Times New Roman'\n",
    "# ax0.set_yticks([0, -0.2, -0.4, -0.6])\n",
    "# # ax0.set_xticks([1, 26, 52])\n",
    "# # plt.ylim([-0.8, 1])\n",
    "# plt.savefig('result_all_correct_Mar11/Figure6_Final_Amplitude_x_breakAxis_Apr11_V3.pdf', bbox_inches='tight')\n",
    "# plt.show()"
   ]
  },
  {
   "cell_type": "code",
   "execution_count": 187,
   "id": "89f2d0e0",
   "metadata": {},
   "outputs": [
    {
     "data": {
      "text/plain": [
       "array([0., 0., 0., 0., 0., 0., 0., 0., 0., 0., 0., 0., 0., 0., 0., 0., 0.,\n",
       "       0., 0., 0., 0., 0., 0., 0., 0., 0., 0., 0., 0., 0., 0., 0., 0., 0.,\n",
       "       0., 0., 0., 0., 0., 0., 0., 0., 0., 0., 0., 0., 0., 0., 0., 0., 0.,\n",
       "       0., 0., 0., 0., 0., 0., 0., 0., 0., 0., 0., 0., 0., 0., 0., 0., 0.,\n",
       "       0., 0., 0., 0., 0., 0., 0., 0., 0., 0., 0., 0., 0., 0., 0., 0., 0.,\n",
       "       0., 0., 0., 0., 0., 0., 0., 0., 0., 0., 0., 0., 0., 0., 0., 0., 0.,\n",
       "       0., 0., 0., 0., 0., 0., 0., 0., 0., 0., 0., 0., 0., 0., 0., 0., 0.,\n",
       "       0., 0., 0., 0., 0., 0., 0., 0., 0., 0., 0., 0., 0., 0., 0., 0., 0.,\n",
       "       0., 0., 0., 0., 0., 0., 0., 0., 0., 0., 0., 0., 0., 0., 0., 0., 0.,\n",
       "       0., 0., 0., 0., 0., 0., 0., 0., 0., 0., 0., 0., 0., 0., 0., 0., 0.,\n",
       "       0., 0., 0., 0., 0., 0., 0., 0., 0., 0., 0., 0., 0., 0., 0., 0., 0.,\n",
       "       0., 0., 0., 0., 0., 0., 0., 0., 0., 0., 0., 0., 0., 0., 0., 0., 0.,\n",
       "       0., 0., 0., 0., 0., 0., 0., 0., 0., 0., 0., 0., 0., 0., 0., 0., 0.,\n",
       "       0., 0., 0., 0., 0., 0., 0., 0., 0., 0., 0., 0., 0., 0., 0., 0., 0.,\n",
       "       0., 0., 0., 0., 0., 0., 0., 0., 0., 0., 0., 0., 0., 0., 0., 0., 0.,\n",
       "       0., 0., 0., 0., 0., 0., 0., 0., 0., 0., 0., 0., 0., 0., 0., 0., 0.,\n",
       "       0., 0., 0., 0., 0., 0., 0., 0., 0., 0., 0., 0., 0., 0., 0., 0., 0.,\n",
       "       0., 0., 0., 0., 0., 0., 0., 0., 0., 0., 0., 0., 0., 0., 0., 0., 0.,\n",
       "       0., 0., 0., 0., 0., 0., 0., 0., 0., 0., 0., 0., 0., 0., 0., 0., 0.,\n",
       "       0., 0., 0., 0., 0., 0., 0., 0., 0., 0., 0., 0., 0., 0., 0., 0., 0.,\n",
       "       0., 0., 0., 0., 0., 0., 0., 0., 0., 0., 0., 0., 0., 0., 0., 0., 0.,\n",
       "       0., 0., 0., 0., 0., 0., 0., 0., 0., 0., 0., 0., 0., 0., 0., 0., 0.,\n",
       "       0., 0., 0., 0., 0., 0., 0., 0., 0., 0., 0., 0., 0., 0., 0., 0., 0.,\n",
       "       0., 0., 0., 0., 0., 0., 0., 0., 0., 0., 0., 0., 0., 0., 0., 0., 0.,\n",
       "       0., 0., 0., 0., 0., 0., 0., 0., 0., 0., 0., 0., 0., 0., 0., 0., 0.,\n",
       "       0., 0., 0., 0., 0., 0., 0., 0., 0., 0., 0., 0., 0., 0., 0., 0., 0.,\n",
       "       0., 0., 0., 0., 0., 0., 0., 0., 0., 0.])"
      ]
     },
     "execution_count": 187,
     "metadata": {},
     "output_type": "execute_result"
    }
   ],
   "source": [
    "B_list.imag"
   ]
  },
  {
   "cell_type": "code",
   "execution_count": 188,
   "id": "fb9b31a7",
   "metadata": {},
   "outputs": [
    {
     "name": "stderr",
     "output_type": "stream",
     "text": [
      "/Applications/anaconda3/lib/python3.8/site-packages/numpy/core/_asarray.py:83: ComplexWarning: Casting complex values to real discards the imaginary part\n",
      "  return array(a, dtype, copy=False, order=order)\n"
     ]
    },
    {
     "data": {
      "image/png": "[encoded data removed]",
      "text/plain": [
       "<Figure size 432x288 with 1 Axes>"
      ]
     },
     "metadata": {
      "needs_background": "light"
     },
     "output_type": "display_data"
    }
   ],
   "source": [
    "\n",
    "# modulation\n",
    "t_list = np.linspace(0, 2*np.pi, num=1000, endpoint=True)\n",
    "amplitude_list = np.zeros(t_list.shape)\n",
    "phase_list = np.zeros(t_list.shape)\n",
    "\n",
    "# for all the t find the max of this\n",
    "index_list = np.arange(0, len(B_list),1)+1\n",
    "for ii, t in enumerate(t_list):\n",
    "    \n",
    "    amplitude_list[ii] = sum(B_list*np.sin(index_list*t + beta_list))\n",
    "    phase_list[ii] = sum(A_list*np.cos(index_list*t + alpha_list))\n",
    "\n",
    "\n",
    "# amplitude_list[-1]\n",
    "# sum(B_list*np.sin(index_list*np.pi*2 + np.pi/2))\n",
    "\n",
    "fig, axs = plt.subplots()\n",
    "ax0 = axs\n",
    "\n",
    "plt.plot(t_list/(2*np.pi), phase_list*gamma_e_t_R,'r',linewidth=0.5, label = 'Phase')\n",
    "plt.plot(t_list/(2*np.pi), amplitude_list*gamma_e_t_R-gamma0*gamma_e_t_R, 'b',linewidth=0.5, label = 'Amplitude')\n",
    "\n",
    "plt.legend(frameon=False, loc='lower left', prop={'size': 20})\n",
    "plt.rc('xtick', labelsize=28)\n",
    "plt.rc('ytick', labelsize=28)\n",
    "# plt.ylim([-0.35, 0.3])\n",
    "plt.rcParams['font.family'] = 'Times New Roman'\n",
    "# ax0.set_yticks([0, 0.05, 0.1])\n",
    "ax0.set_xticks([0, 0.5, 1])\n",
    "plt.savefig('result_all_correct_Mar11/Figure6_Final_modulated_form_Apr11_V3.pdf', bbox_inches='tight')\n",
    "plt.show()\n"
   ]
  },
  {
   "cell_type": "code",
   "execution_count": 189,
   "id": "6fde0930",
   "metadata": {},
   "outputs": [],
   "source": [
    "kernel_groundTruth = populate_matrix_posNeg(dim, kernel_arr_neg, \n",
    "                                            kernel_arr_pos, kernel_0)"
   ]
  },
  {
   "cell_type": "code",
   "execution_count": 190,
   "id": "1486af0e",
   "metadata": {},
   "outputs": [
    {
     "name": "stdout",
     "output_type": "stream",
     "text": [
      "0.11440034574106092\n"
     ]
    }
   ],
   "source": [
    "print(np.max(abs(kernel_big_built- kernel_groundTruth)))"
   ]
  },
  {
   "cell_type": "code",
   "execution_count": 191,
   "id": "dd765778",
   "metadata": {},
   "outputs": [
    {
     "data": {
      "text/plain": [
       "[<matplotlib.lines.Line2D at 0x7fc65ed52b80>]"
      ]
     },
     "execution_count": 191,
     "metadata": {},
     "output_type": "execute_result"
    },
    {
     "data": {
      "image/png": "[encoded data removed]",
      "text/plain": [
       "<Figure size 432x288 with 1 Axes>"
      ]
     },
     "metadata": {
      "needs_background": "light"
     },
     "output_type": "display_data"
    }
   ],
   "source": [
    "len(kernel_arr_neg)\n",
    "         \n",
    "plt.plot(kernel_arr_pos)\n"
   ]
  },
  {
   "cell_type": "code",
   "execution_count": 192,
   "id": "235a7fa9",
   "metadata": {},
   "outputs": [
    {
     "data": {
      "text/plain": [
       "(15288, 15288)"
      ]
     },
     "execution_count": 192,
     "metadata": {},
     "output_type": "execute_result"
    }
   ],
   "source": [
    "kernel_big_built.shape\n"
   ]
  },
  {
   "cell_type": "code",
   "execution_count": 193,
   "id": "30bef632",
   "metadata": {},
   "outputs": [],
   "source": [
    "\n",
    "b_output = kernel_big_built.dot(a_input)\n",
    "mat_output = b_output.reshape(x_new_pad.shape)\n",
    "mat_output = mat_output[1:-1,1:-1, 1:-1]"
   ]
  },
  {
   "cell_type": "code",
   "execution_count": 194,
   "id": "ccc2d96b",
   "metadata": {},
   "outputs": [
    {
     "data": {
      "image/png": "[encoded data removed]",
      "text/plain": [
       "<Figure size 432x288 with 1 Axes>"
      ]
     },
     "metadata": {
      "needs_background": "light"
     },
     "output_type": "display_data"
    }
   ],
   "source": [
    "\n",
    "plt.imshow(mat_output.real[:,:,0], cmap = 'gray')\n",
    "plt.axis('off')\n",
    "plt.savefig('result_all_correct_Mar11/conv_3D_1_Apr11_V3.pdf', bbox_inches='tight')\n",
    "plt.show()\n",
    "# plt.colorbar()\n"
   ]
  },
  {
   "cell_type": "code",
   "execution_count": 195,
   "id": "039bb5a4",
   "metadata": {},
   "outputs": [
    {
     "data": {
      "image/png": "[encoded data removed]",
      "text/plain": [
       "<Figure size 432x288 with 1 Axes>"
      ]
     },
     "metadata": {
      "needs_background": "light"
     },
     "output_type": "display_data"
    }
   ],
   "source": [
    "plt.imshow(mat_output.real[:,:,1], cmap = 'gray')\n",
    "plt.axis('off')\n",
    "plt.savefig('result_all_correct_Mar11/conv_3D_2_Apr11_V3.pdf', bbox_inches='tight')\n",
    "plt.show()\n",
    "# plt.colorbar()\n"
   ]
  },
  {
   "cell_type": "code",
   "execution_count": 196,
   "id": "f58dd18b",
   "metadata": {},
   "outputs": [
    {
     "data": {
      "image/png": "[encoded data removed]",
      "text/plain": [
       "<Figure size 432x288 with 1 Axes>"
      ]
     },
     "metadata": {
      "needs_background": "light"
     },
     "output_type": "display_data"
    }
   ],
   "source": [
    "plt.imshow(mat_output.real[:,:,2], cmap = 'gray')\n",
    "plt.axis('off')\n",
    "plt.savefig('result_all_correct_Mar11/conv_3D_3_Apr11_V3.pdf', bbox_inches='tight')\n",
    "plt.show()\n",
    "# plt.colorbar()"
   ]
  },
  {
   "cell_type": "code",
   "execution_count": 197,
   "id": "548cce20",
   "metadata": {},
   "outputs": [
    {
     "data": {
      "image/png": "[encoded data removed]",
      "text/plain": [
       "<Figure size 432x288 with 1 Axes>"
      ]
     },
     "metadata": {
      "needs_background": "light"
     },
     "output_type": "display_data"
    }
   ],
   "source": [
    "plt.imshow(mat_output.real[:,:,3], cmap = 'gray')\n",
    "plt.axis('off')\n",
    "plt.savefig('result_all_correct_Mar11/conv_3D_4_Apr11_V3.pdf', bbox_inches='tight')\n",
    "plt.show()\n",
    "# plt.colorbar()"
   ]
  },
  {
   "cell_type": "code",
   "execution_count": 198,
   "id": "31cea1cd",
   "metadata": {},
   "outputs": [
    {
     "data": {
      "image/png": "[encoded data removed]",
      "text/plain": [
       "<Figure size 432x288 with 1 Axes>"
      ]
     },
     "metadata": {
      "needs_background": "light"
     },
     "output_type": "display_data"
    }
   ],
   "source": [
    "plt.imshow(mat_output.real[:,:,4], cmap = 'gray')\n",
    "plt.axis('off')\n",
    "plt.savefig('result_all_correct_Mar11/conv_3D_5_Apr11_V3.pdf', bbox_inches='tight')\n",
    "plt.show()\n",
    "# plt.colorbar()"
   ]
  },
  {
   "cell_type": "code",
   "execution_count": null,
   "id": "320528f9",
   "metadata": {},
   "outputs": [],
   "source": []
  },
  {
   "cell_type": "code",
   "execution_count": null,
   "id": "4b2c4c7e",
   "metadata": {},
   "outputs": [],
   "source": []
  },
  {
   "cell_type": "code",
   "execution_count": null,
   "id": "4c75bac0",
   "metadata": {},
   "outputs": [],
   "source": []
  }
 ],
 "metadata": {
  "kernelspec": {
   "display_name": "Python 3",
   "language": "python",
   "name": "python3"
  },
  "language_info": {
   "codemirror_mode": {
    "name": "ipython",
    "version": 3
   },
   "file_extension": ".py",
   "mimetype": "text/x-python",
   "name": "python",
   "nbconvert_exporter": "python",
   "pygments_lexer": "ipython3",
   "version": "3.8.8"
  }
 },
 "nbformat": 4,
 "nbformat_minor": 5
}
