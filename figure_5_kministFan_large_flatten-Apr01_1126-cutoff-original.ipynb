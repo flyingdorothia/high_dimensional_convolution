{
 "cells": [
  {
   "cell_type": "code",
   "execution_count": 1,
   "id": "87bf50ff",
   "metadata": {},
   "outputs": [
    {
     "name": "stdout",
     "output_type": "stream",
     "text": [
      "Once deleted, variables cannot be recovered. Proceed (y/[n])? y\n"
     ]
    }
   ],
   "source": [
    "%reset\n",
    "import numpy as np\n",
    "from numpy.linalg import norm, inv\n",
    "import time\n",
    "import math\n",
    "from correct_final_code_feb24 import *\n",
    "import matplotlib.image as mpimg\n",
    "import matplotlib.pyplot as plt\n",
    "from skimage.color import rgb2gray"
   ]
  },
  {
   "cell_type": "code",
   "execution_count": 76,
   "id": "d9ce53a9",
   "metadata": {
    "scrolled": true
   },
   "outputs": [
    {
     "data": {
      "image/png": "[encoded data removed]",
      "text/plain": [
       "<Figure size 432x288 with 1 Axes>"
      ]
     },
     "metadata": {
      "needs_background": "light"
     },
     "output_type": "display_data"
    },
    {
     "name": "stdout",
     "output_type": "stream",
     "text": [
      "(64, 64)\n"
     ]
    }
   ],
   "source": [
    "# X_gray = np.random.rand(2,4)*256\n",
    "# large.png\n",
    "\n",
    "Xread = mpimg.imread('fan_original.jpeg')\n",
    "from skimage.color import rgb2gray\n",
    "X_gray = rgb2gray(Xread)\n",
    "# X_gray = X_gray[90:170, 30:190]\n",
    "plt.imshow(X_gray, cmap = 'YlGnBu', vmin = -0.163, vmax = 1)\n",
    "plt.axis('off')\n",
    "# plt.colorbar()\n",
    "plt.rcParams.update({'font.size': 28})\n",
    "plt.rcParams['font.family'] = 'Times New Roman'\n",
    "plt.savefig('result_all_correct_Mar11/original_Fan_Apr01.pdf', bbox_inches='tight')\n",
    "plt.show()\n",
    "\n",
    "# plt.colorbar()\n",
    "print(X_gray.shape)\n",
    "\n"
   ]
  },
  {
   "cell_type": "code",
   "execution_count": 46,
   "id": "0e7149d1",
   "metadata": {},
   "outputs": [
    {
     "name": "stdout",
     "output_type": "stream",
     "text": [
      "4356\n",
      "4356\n"
     ]
    }
   ],
   "source": [
    "kernel_given = np.array([[0, -1, 0],\n",
    "                         [-1, 4, -1],\n",
    "                         [0, -1, 0]])\n",
    "input_image = np.pad(X_gray,((1, 1), (1, 1)),'constant')\n",
    "\n",
    "\n",
    "L = input_image.shape[1]\n",
    "\n",
    "\n",
    "\n",
    "K = kernel_given.shape[1]\n",
    "W = input_image.shape[1]\n",
    "H = input_image.shape[0]\n",
    "dim = int((W-(K - 1))/(L-(K - 1)))*L*H\n",
    "\n",
    "print(dim)\n",
    "\n",
    "a_input, dim = input_output_image_conv_large(input_image, L, K)\n",
    "print(dim)\n",
    "\n",
    "gamma_e = np.log(2)/4/np.pi # in the unit of Omega\n",
    "gamma_e_t_R = gamma_e*2*np.pi\n",
    "\n",
    "image = X_gray\n",
    "in_dim = L\n",
    "kernel_arr_neg, kernel_arr_pos, kernel_0 = kernel_to_array_0217(in_dim, \n",
    "                                                                kernel_given)\n",
    "\n",
    "kernel_big_should = populate_matrix_posNeg(dim, kernel_arr_neg, \n",
    "                                           kernel_arr_pos, kernel_0)"
   ]
  },
  {
   "cell_type": "code",
   "execution_count": 47,
   "id": "f866c29e",
   "metadata": {},
   "outputs": [],
   "source": [
    "norm_fac = 8.781027653077974\n",
    "# \n",
    "YDim = 500\n",
    "kappa_pos, kappa_neg, kappa0 = from_S_get_kappa_0718(kernel_arr_pos, kernel_arr_neg,\n",
    "                                                     kernel_0, norm_fac, YDim)\n",
    "# kappa is in the unit of gamma_e\n",
    "\n",
    "A_list, B_list, gamma0 = find_modulate_AmpPha_0718_without_angle(kappa_pos,\n",
    "                                                                 kappa_neg, kappa0)"
   ]
  },
  {
   "cell_type": "code",
   "execution_count": 48,
   "id": "e071cb55",
   "metadata": {},
   "outputs": [],
   "source": [
    "# B_list[0:50]"
   ]
  },
  {
   "cell_type": "code",
   "execution_count": 49,
   "id": "4508c9f1",
   "metadata": {},
   "outputs": [
    {
     "name": "stdout",
     "output_type": "stream",
     "text": [
      "(0.21252928406630897-3.5707892003808184e-20j)\n"
     ]
    }
   ],
   "source": [
    "cutoff_1 = 50\n",
    "A_list1 = A_list[:cutoff_1]\n",
    "B_list1 = B_list[:cutoff_1]\n",
    "\n",
    "alpha_list1 = np.pi/2*np.ones_like(A_list1)\n",
    "beta_list1 = np.pi/2*np.ones_like(A_list1)\n",
    "\n",
    "kappa_posBuil1, kappa_negBuil1, kappa0Buil1 = forward_build_Xvec_0718_without_angle(A_list1,\n",
    "                                                                                    B_list1,\n",
    "                                                                                    gamma0)\n",
    "norm_fac_from_now = 1\n",
    "\n",
    "kernel_arr_posBuil1, kernel_arr_negBuil1, kernel_0Buil1 = from_kappa_get_S_0718(kappa_posBuil1,\n",
    "                                                                                kappa_negBuil1, \n",
    "                                                                                kappa0Buil1, \n",
    "                                                                                norm_fac_from_now, YDim)\n",
    "\n",
    "kernel_big_buil1 = populate_matrix_posNeg(dim, kernel_arr_negBuil1, \n",
    "                                          kernel_arr_posBuil1, kernel_0Buil1)\n",
    "\n",
    "print(gamma0*gamma_e)"
   ]
  },
  {
   "cell_type": "code",
   "execution_count": 50,
   "id": "c9be36f8",
   "metadata": {},
   "outputs": [],
   "source": [
    "alpha_list = np.pi/2*np.ones_like(A_list)\n",
    "beta_list = np.pi/2*np.ones_like(A_list)\n",
    "\n",
    "kappa_posBuild, kappa_negBuild, kappa0Build = forward_build_Xvec_0718_without_angle(A_list,\n",
    "                                                                                    B_list,\n",
    "                                                                                    gamma0)\n",
    "norm_fac_from_now = 1\n",
    "\n",
    "kernel_arr_posBuild, kernel_arr_negBuild, kernel_0Build = from_kappa_get_S_0718(kappa_posBuild,\n",
    "                                                                                kappa_negBuild, \n",
    "                                                                                kappa0Build, \n",
    "                                                                                norm_fac_from_now, YDim)\n",
    "\n",
    "kernel_big_built = populate_matrix_posNeg(dim, kernel_arr_negBuild, \n",
    "                                          kernel_arr_posBuild, kernel_0Build)"
   ]
  },
  {
   "cell_type": "code",
   "execution_count": 51,
   "id": "e0f0c7f5",
   "metadata": {},
   "outputs": [
    {
     "data": {
      "text/plain": [
       "0.11390037442230942"
      ]
     },
     "execution_count": 51,
     "metadata": {},
     "output_type": "execute_result"
    }
   ],
   "source": [
    "np.max(abs(kernel_big_built - kernel_big_buil1))"
   ]
  },
  {
   "cell_type": "code",
   "execution_count": 52,
   "id": "390d1692",
   "metadata": {},
   "outputs": [],
   "source": [
    "# def plot_matrix(mat, figsize, cmap=plt.cm.coolwarm):\n",
    "#     f = plt.figure(figsize=figsize)\n",
    "#     ax = plt.axes([0.05, 0.05, 0.6, 0.6]) #left, bottom, width, height\n",
    "#     #note that we are forcing width:height=1:1 here, \n",
    "#     #as 0.9*8 : 0.9*8 = 1:1, the figure size is (8,8)\n",
    "#     #if the figure size changes, the width:height ratio here also need to be changed\n",
    "#     im = ax.imshow(mat, interpolation='nearest', cmap=cmap)\n",
    "#     ax.grid(False)\n",
    "#     cax = plt.axes([0.7, 0.05, 0.05, 0.6])\n",
    "#     plt.colorbar(mappable=im, cax=cax)\n",
    "#     return ax, cax\n",
    "# # result 4\n",
    "# plt.rc('xtick', labelsize=18)\n",
    "# plt.rc('ytick', labelsize=18)\n",
    "# plt.rcParams['font.family'] = 'Times New Roman'\n",
    "# data = np.real(kernel_big_built[:40, :40])\n",
    "# ax, cax = plot_matrix(data, (8,8)) \n",
    "# plt.savefig('result_all_correct_Mar11/Figure5_Fan_kernel_matrix_built_Mar28.pdf')"
   ]
  },
  {
   "cell_type": "code",
   "execution_count": 53,
   "id": "4d5a9aba",
   "metadata": {},
   "outputs": [],
   "source": [
    "# def passivity_metric(gamma0, B_list, beta_list):\n",
    "#     t_list = np.arange(0, 2*np.pi, 0.01)\n",
    "#     result_list = np.zeros(t_list.shape, dtype = complex)\n",
    "    \n",
    "#     # for all the t find the max of this\n",
    "#     index_list = np.arange(0, len(B_list),1)+1\n",
    "#     for ii, t in enumerate(t_list):\n",
    "#         result_list[ii] = sum(B_list*np.sin(index_list*t + beta_list))\n",
    "#     constraint = max(result_list)\n",
    "#     return gamma0 > constraint\n",
    "\n",
    "\n",
    "# print(passivity_metric(gamma0, (B_list[:dim]), beta_list[:dim]))\n",
    "# norm_fac"
   ]
  },
  {
   "cell_type": "code",
   "execution_count": 54,
   "id": "c0fc8cdc",
   "metadata": {},
   "outputs": [],
   "source": [
    "# fig, axs = plt.subplots()\n",
    "# ax0 = axs\n",
    "# # result 2\n",
    "# plt.bar(np.arange(0, len(A_list[:cut_site]),1)+1, alpha_list[:cut_site], fc = 'r', width = 1, label = '$A_m$')\n",
    "# plt.bar(np.arange(0, len(A_list[:cut_site]),1)+1 + 0.5, beta_list[:cut_site], fc = 'b',  width = 1, label = '$B_m$')\n",
    "\n",
    "# # plt.legend(prop={'size': 20})\n",
    "# plt.rc('xtick', labelsize=20)\n",
    "# plt.rc('ytick', labelsize=20)\n",
    "# plt.rcParams['font.family'] = 'Times New Roman'\n",
    "# # ax0.set_yticks([0, 0.05, 0.1])\n",
    "# # ax0.set_xticks([1, 26, 52])\n",
    "# plt.legend(frameon=False, prop={'size': 20})\n",
    "# # plt.savefig('Figure5_Amplitude_right_Fan_Mar8.pdf')\n",
    "# plt.show()"
   ]
  },
  {
   "cell_type": "code",
   "execution_count": 55,
   "id": "caa196a4",
   "metadata": {},
   "outputs": [],
   "source": [
    "_, out_form_slice_original = input_output_slice_output_0301(kernel_big_built, a_input, K, input_image, L)\n",
    "\n",
    "_, out_form_slice_cutoff = input_output_slice_output_0301(kernel_big_buil1, a_input, K, input_image, L)\n",
    "\n",
    "\n",
    "# print(np.max(abs(kernel_big_built - kernel_big_mat)))"
   ]
  },
  {
   "cell_type": "code",
   "execution_count": 56,
   "id": "b722b5fb",
   "metadata": {},
   "outputs": [
    {
     "name": "stdout",
     "output_type": "stream",
     "text": [
      "0.4165009435906816\n",
      "-0.10658297651787078\n",
      "0.21665025843554767\n",
      "-0.16285245104065338\n"
     ]
    }
   ],
   "source": [
    "print(np.max(out_form_slice_cutoff.real))\n",
    "print(np.min(out_form_slice_cutoff.real))\n",
    "print(np.max(out_form_slice_original.real))\n",
    "print(np.min(out_form_slice_original.real))"
   ]
  },
  {
   "cell_type": "code",
   "execution_count": 77,
   "id": "c7bfac70",
   "metadata": {},
   "outputs": [
    {
     "data": {
      "image/png": "[encoded data removed]",
      "text/plain": [
       "<Figure size 432x288 with 1 Axes>"
      ]
     },
     "metadata": {
      "needs_background": "light"
     },
     "output_type": "display_data"
    }
   ],
   "source": [
    "plt.imshow(out_form_slice_original.real, cmap = 'YlGnBu')\n",
    "plt.axis('off')\n",
    "# plt.colorbar()\n",
    "plt.rcParams.update({'font.size': 28})\n",
    "plt.rcParams['font.family'] = 'Times New Roman'\n",
    "plt.savefig('result_all_correct_Mar11/Figure5_output_image_Fan_Apr01.pdf', bbox_inches='tight')\n",
    "plt.show()\n"
   ]
  },
  {
   "cell_type": "code",
   "execution_count": 78,
   "id": "1e2769c7",
   "metadata": {},
   "outputs": [
    {
     "data": {
      "image/png": "[encoded data removed]",
      "text/plain": [
       "<Figure size 432x288 with 1 Axes>"
      ]
     },
     "metadata": {
      "needs_background": "light"
     },
     "output_type": "display_data"
    }
   ],
   "source": [
    "plt.imshow(out_form_slice_cutoff.real, cmap = 'YlGnBu')\n",
    "plt.axis('off')\n",
    "# plt.colorbar()\n",
    "plt.rcParams.update({'font.size': 28})\n",
    "plt.rcParams['font.family'] = 'Times New Roman'\n",
    "plt.savefig('result_all_correct_Mar11/Figure5_output_cutoff_fromORiginal_image_Fan_Apr01.pdf', bbox_inches='tight')\n",
    "plt.show()\n"
   ]
  },
  {
   "cell_type": "code",
   "execution_count": 44,
   "id": "98ecf9f3",
   "metadata": {},
   "outputs": [
    {
     "data": {
      "text/plain": [
       "-0.10658297651787078"
      ]
     },
     "execution_count": 44,
     "metadata": {},
     "output_type": "execute_result"
    }
   ],
   "source": [
    "np.min(out_form_slice_cutoff.real)"
   ]
  },
  {
   "cell_type": "code",
   "execution_count": 40,
   "id": "3c617a44",
   "metadata": {},
   "outputs": [
    {
     "name": "stderr",
     "output_type": "stream",
     "text": [
      "<ipython-input-40-e387eee436ef>:10: ComplexWarning: Casting complex values to real discards the imaginary part\n",
      "  amplitude_list[ii] = sum(B_list*gamma_e_t_R*np.sin(index_list*t + beta_list))-gamma0*gamma_e_t_R\n"
     ]
    }
   ],
   "source": [
    "# modulation\n",
    "t_list = np.linspace(0, 2*np.pi, num=1000, endpoint=True)\n",
    "amplitude_list = np.zeros(t_list.shape)\n",
    "phase_list = np.zeros(t_list.shape)\n",
    "\n",
    "# for all the t find the max of this\n",
    "index_list = np.arange(0, len(B_list),1)+1\n",
    "for ii, t in enumerate(t_list):\n",
    "    \n",
    "    amplitude_list[ii] = sum(B_list*gamma_e_t_R*np.sin(index_list*t + beta_list))-gamma0*gamma_e_t_R\n",
    "    phase_list[ii] = sum(A_list*gamma_e_t_R*np.cos(index_list*t + alpha_list))\n"
   ]
  },
  {
   "cell_type": "code",
   "execution_count": 41,
   "id": "b2658a81",
   "metadata": {},
   "outputs": [
    {
     "data": {
      "image/png": "[encoded data removed]",
      "text/plain": [
       "<Figure size 432x288 with 1 Axes>"
      ]
     },
     "metadata": {
      "needs_background": "light"
     },
     "output_type": "display_data"
    }
   ],
   "source": [
    "fig, axs = plt.subplots()\n",
    "ax0 = axs\n",
    "\n",
    "plt.plot(t_list, phase_list*gamma_e_t_R,'r',linewidth=2.0, label = 'Phase')\n",
    "plt.plot(t_list, amplitude_list*gamma_e_t_R, 'b',linewidth=2.0, label = 'Amplitude')\n",
    "\n",
    "plt.legend(frameon=False, loc='lower right', prop={'size': 20})\n",
    "plt.rc('xtick', labelsize=20)\n",
    "plt.rc('ytick', labelsize=20)\n",
    "# plt.ylim([-0.35, 0.3])\n",
    "plt.rcParams['font.family'] = 'Times New Roman'\n",
    "# ax0.set_yticks([0, 0.05, 0.1])\n",
    "ax0.set_xticks([0, np.pi, np.pi*2])\n",
    "plt.savefig('result_all_correct_Mar11/Figure5_Fan_modulated_form_Apr01.pdf', bbox_inches='tight')\n",
    "plt.show()"
   ]
  },
  {
   "cell_type": "code",
   "execution_count": 42,
   "id": "5c3ee85c",
   "metadata": {},
   "outputs": [
    {
     "ename": "NameError",
     "evalue": "name 'out_form_slice' is not defined",
     "output_type": "error",
     "traceback": [
      "\u001b[0;31m---------------------------------------------------------------------------\u001b[0m",
      "\u001b[0;31mNameError\u001b[0m                                 Traceback (most recent call last)",
      "\u001b[0;32m<ipython-input-42-b5694c3645e9>\u001b[0m in \u001b[0;36m<module>\u001b[0;34m\u001b[0m\n\u001b[1;32m      1\u001b[0m \u001b[0mout_definition\u001b[0m \u001b[0;34m=\u001b[0m \u001b[0mconv_by_definition_Nov18\u001b[0m\u001b[0;34m(\u001b[0m\u001b[0mimage\u001b[0m\u001b[0;34m,\u001b[0m \u001b[0mkernel_given\u001b[0m\u001b[0;34m)\u001b[0m\u001b[0;34m\u001b[0m\u001b[0;34m\u001b[0m\u001b[0m\n\u001b[0;32m----> 2\u001b[0;31m \u001b[0mprint\u001b[0m\u001b[0;34m(\u001b[0m\u001b[0mnp\u001b[0m\u001b[0;34m.\u001b[0m\u001b[0mmax\u001b[0m\u001b[0;34m(\u001b[0m\u001b[0mabs\u001b[0m\u001b[0;34m(\u001b[0m\u001b[0mout_definition\u001b[0m\u001b[0;34m/\u001b[0m\u001b[0mnorm_fac\u001b[0m\u001b[0;34m-\u001b[0m \u001b[0mout_form_slice\u001b[0m\u001b[0;34m)\u001b[0m\u001b[0;34m/\u001b[0m\u001b[0mnp\u001b[0m\u001b[0;34m.\u001b[0m\u001b[0mmax\u001b[0m\u001b[0;34m(\u001b[0m\u001b[0mabs\u001b[0m\u001b[0;34m(\u001b[0m\u001b[0mout_form_slice\u001b[0m\u001b[0;34m)\u001b[0m\u001b[0;34m)\u001b[0m\u001b[0;34m)\u001b[0m\u001b[0;34m)\u001b[0m\u001b[0;34m\u001b[0m\u001b[0;34m\u001b[0m\u001b[0m\n\u001b[0m",
      "\u001b[0;31mNameError\u001b[0m: name 'out_form_slice' is not defined"
     ]
    }
   ],
   "source": [
    "out_definition = conv_by_definition_Nov18(image, kernel_given)\n",
    "print(np.max(abs(out_definition/norm_fac- out_form_slice)/np.max(abs(out_form_slice))))"
   ]
  },
  {
   "cell_type": "code",
   "execution_count": null,
   "id": "4b403793",
   "metadata": {},
   "outputs": [],
   "source": [
    "print(np.max(abs(kernel_big_built- kernel_big_should/norm_fac)/np.max(abs(kernel_big_should))))"
   ]
  },
  {
   "cell_type": "code",
   "execution_count": null,
   "id": "f3e1092c",
   "metadata": {},
   "outputs": [],
   "source": []
  },
  {
   "cell_type": "code",
   "execution_count": null,
   "id": "43d10220",
   "metadata": {},
   "outputs": [],
   "source": []
  }
 ],
 "metadata": {
  "kernelspec": {
   "display_name": "Python 3",
   "language": "python",
   "name": "python3"
  },
  "language_info": {
   "codemirror_mode": {
    "name": "ipython",
    "version": 3
   },
   "file_extension": ".py",
   "mimetype": "text/x-python",
   "name": "python",
   "nbconvert_exporter": "python",
   "pygments_lexer": "ipython3",
   "version": "3.8.8"
  }
 },
 "nbformat": 4,
 "nbformat_minor": 5
}
