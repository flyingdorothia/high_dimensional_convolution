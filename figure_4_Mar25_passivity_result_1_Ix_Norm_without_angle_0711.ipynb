{
 "cells": [
  {
   "cell_type": "code",
   "execution_count": 1,
   "id": "7d06cdb7",
   "metadata": {},
   "outputs": [
    {
     "name": "stdout",
     "output_type": "stream",
     "text": [
      "Once deleted, variables cannot be recovered. Proceed (y/[n])? y\n"
     ]
    }
   ],
   "source": [
    "%reset\n",
    "import numpy as np\n",
    "from numpy.linalg import norm, inv\n",
    "import time\n",
    "import math\n",
    "from correct_final_code_feb24 import *\n",
    "from tensorflow import keras\n",
    "from matplotlib.pyplot import imread\n",
    "import matplotlib.image as mpimg\n",
    "import matplotlib.pyplot as plt\n",
    "from skimage.color import rgb2gray"
   ]
  },
  {
   "cell_type": "code",
   "execution_count": 6,
   "id": "d9ce53a9",
   "metadata": {
    "scrolled": true
   },
   "outputs": [
    {
     "data": {
      "image/png": "[encoded data removed]",
      "text/plain": [
       "<Figure size 432x288 with 2 Axes>"
      ]
     },
     "metadata": {
      "needs_background": "light"
     },
     "output_type": "display_data"
    }
   ],
   "source": [
    "# result 1\n",
    "(x_train, y_train), (x_test, y_test) = keras.datasets.mnist.load_data()\n",
    "x_train = x_train.astype(\"float32\")\n",
    "sample = 16\n",
    "image = x_train[sample]\n",
    "image = image[3:25, 4:28]\n",
    "plt.imshow(image, cmap = 'gray')\n",
    "plt.axis('off')\n",
    "plt.colorbar()\n",
    "plt.rcParams.update({'font.size': 28})\n",
    "\n",
    "plt.rcParams['font.family'] = 'Times New Roman'\n",
    "plt.savefig('result_all_correct_Mar11/original_image_Mar25.pdf', bbox_inches='tight')\n",
    "plt.show()"
   ]
  },
  {
   "cell_type": "code",
   "execution_count": 7,
   "id": "2f3ac4f5",
   "metadata": {},
   "outputs": [],
   "source": [
    "gamma_e = np.log(2)/4/np.pi # in the unit of Omega\n",
    "gamma_e_t_R = gamma_e*2*np.pi"
   ]
  },
  {
   "cell_type": "code",
   "execution_count": 8,
   "id": "2a1a2a59",
   "metadata": {},
   "outputs": [
    {
     "data": {
      "text/plain": [
       "array([-2.,  0.,  0.,  0.,  0.,  0.,  0.,  0.,  0.,  0.,  0.,  0.,  0.,\n",
       "        0.,  0.,  0.,  0.,  0.,  0.,  0.,  0.,  0.,  0.,  0.,  1.,  0.,\n",
       "       -1.])"
      ]
     },
     "execution_count": 8,
     "metadata": {},
     "output_type": "execute_result"
    }
   ],
   "source": [
    "kernel_given = np.array([[-1, 0, 1],\n",
    "                         [-2, 0, 2],\n",
    "                         [-1, 0, 1]])\n",
    "in_dim = image.shape[1] + 2\n",
    "kernel_arr_neg, kernel_arr_pos, kernel_0 = kernel_to_array_0217(in_dim, \n",
    "                                                                kernel_given)\n",
    "\n",
    "kernel_arr_neg"
   ]
  },
  {
   "cell_type": "code",
   "execution_count": 9,
   "id": "3894dff0",
   "metadata": {},
   "outputs": [],
   "source": [
    "dim = (in_dim)*(image.shape[0]+2)\n",
    "kernel_big_mat = populate_matrix_posNeg(dim, kernel_arr_neg, kernel_arr_pos, kernel_0)\n",
    "\n",
    "YDim = dim\n",
    "YposVec, YnegVec, Y0 = inv_trans_matrix_0718(kernel_arr_pos, kernel_arr_neg, \n",
    "                                             kernel_0, YDim)"
   ]
  },
  {
   "cell_type": "code",
   "execution_count": 10,
   "id": "7ed75ea0",
   "metadata": {},
   "outputs": [
    {
     "name": "stdout",
     "output_type": "stream",
     "text": [
      "2.5000138329935357e-05\n"
     ]
    }
   ],
   "source": [
    "Ybuilt = populate_matrix_posNeg(dim, YnegVec[:dim], YposVec[:dim], Y0)\n",
    "result = Ybuilt.dot(kernel_big_mat)\n",
    "dim_cut = 30\n",
    "checked = result[dim_cut:dim-dim_cut,dim_cut:dim-dim_cut]\n",
    "print(np.max(abs(checked - np.identity(checked.shape[0]))))\n",
    "# so the inverse is correct\n",
    "# plt.imshow(checked.real)"
   ]
  },
  {
   "cell_type": "code",
   "execution_count": 11,
   "id": "831d05ad",
   "metadata": {},
   "outputs": [
    {
     "name": "stdout",
     "output_type": "stream",
     "text": [
      "8.735494855436206\n"
     ]
    }
   ],
   "source": [
    "# without angle \n",
    "t_list = np.linspace(0, 2*np.pi, num=1000, endpoint=True)\n",
    "\n",
    "result_list = np.zeros(t_list.shape)\n",
    "\n",
    "# for all the t find the max of this\n",
    "index_list = np.arange(0, kernel_arr_neg.shape[0],1)+1\n",
    "for ii, t in enumerate(t_list):\n",
    "    \n",
    "    result_list[ii] = abs(kernel_0 + sum(kernel_arr_neg*np.exp(-1j*index_list*t))+sum(kernel_arr_pos*np.exp(1j*index_list*t)))\n",
    "norm_fac = max(result_list*1.1)\n",
    "    \n",
    "    \n",
    "    \n",
    "print(norm_fac)\n",
    "kappa_pos, kappa_neg, kappa0 = from_S_get_kappa_0718(kernel_arr_pos, kernel_arr_neg, \n",
    "                                                     kernel_0, norm_fac, YDim)\n",
    "# kappa is in the unit of gamma_e"
   ]
  },
  {
   "cell_type": "code",
   "execution_count": 12,
   "id": "1322bf79",
   "metadata": {},
   "outputs": [],
   "source": [
    "A_list, B_list, gamma0 = find_modulate_AmpPha_0718_without_angle(kappa_pos,\n",
    "                                                                 kappa_neg, kappa0)\n",
    "\n",
    "alpha_list = np.pi/2*np.ones_like(A_list)\n",
    "beta_list = np.pi/2*np.ones_like(A_list)\n",
    "\n",
    "kappa_posBuild, kappa_negBuild, kappa0Build = forward_build_Xvec_0718_without_angle(A_list,\n",
    "                                                                                    B_list,\n",
    "                                                                                    gamma0)\n",
    "\n",
    "norm_fac_from_now = 1\n",
    "\n",
    "kernel_arr_posBuild, kernel_arr_negBuild, kernel_0Build = from_kappa_get_S_0718(kappa_posBuild,\n",
    "                                                                                kappa_negBuild, \n",
    "                                                                                kappa0Build, \n",
    "                                                                                norm_fac_from_now, dim)\n",
    "\n",
    "kernel_big_built = populate_matrix_posNeg(dim, kernel_arr_negBuild, \n",
    "                                          kernel_arr_posBuild, kernel_0Build)"
   ]
  },
  {
   "cell_type": "code",
   "execution_count": 13,
   "id": "c56f5f58",
   "metadata": {},
   "outputs": [
    {
     "name": "stdout",
     "output_type": "stream",
     "text": [
      "(0.04293671944269656-2.3270225540232176e-09j)\n"
     ]
    }
   ],
   "source": [
    "print(gamma0*gamma_e)"
   ]
  },
  {
   "cell_type": "code",
   "execution_count": 14,
   "id": "390d1692",
   "metadata": {},
   "outputs": [
    {
     "data": {
      "image/png": "[encoded data removed]",
      "text/plain": [
       "<Figure size 576x576 with 2 Axes>"
      ]
     },
     "metadata": {
      "needs_background": "light"
     },
     "output_type": "display_data"
    }
   ],
   "source": [
    "def plot_matrix(mat, figsize, cmap=plt.cm.coolwarm):\n",
    "    f = plt.figure(figsize=figsize)\n",
    "    ax = plt.axes([0.05, 0.05, 0.65, 0.6]) #left, bottom, width, height\n",
    "    #note that we are forcing width:height=1:1 here, \n",
    "    #as 0.9*8 : 0.9*8 = 1:1, the figure size is (8,8)\n",
    "    #if the figure size changes, the width:height ratio here also need to be changed\n",
    "    im = ax.imshow(mat, interpolation='nearest', cmap=cmap, vmin = -np.max(mat), vmax = np.max(mat))\n",
    "#     vmin = -4, vmax = +4\n",
    "    ax.grid(False)\n",
    "    cax = plt.axes([0.7, 0.05, 0.05, 0.6])\n",
    "    plt.colorbar(mappable=im, cax=cax)\n",
    "    return ax, cax\n",
    "# result 4\n",
    "plt.rc('xtick', labelsize=28)\n",
    "plt.rc('ytick', labelsize=28)\n",
    "plt.rcParams['font.family'] = 'Times New Roman'\n",
    "data = np.real(kernel_big_built[:40, :40])\n",
    "ax, cax = plot_matrix(data, (8,8)) \n",
    "\n",
    "# 0 1 0\n",
    "\n",
    "plt.savefig('result_all_correct_Mar11/Figure4_kernel_matrix_built_Ix_Mar25.pdf', bbox_inches='tight')"
   ]
  },
  {
   "cell_type": "code",
   "execution_count": 15,
   "id": "4d5a9aba",
   "metadata": {},
   "outputs": [
    {
     "name": "stdout",
     "output_type": "stream",
     "text": [
      "True\n"
     ]
    }
   ],
   "source": [
    "def passivity_metric(gamma0, B_list, beta_list):\n",
    "    t_list = np.arange(0, 2*np.pi, 0.01)\n",
    "    result_list = np.zeros(t_list.shape, dtype = complex)\n",
    "    \n",
    "    # for all the t find the max of this\n",
    "    index_list = np.arange(0, len(B_list),1)+1\n",
    "    for ii, t in enumerate(t_list):\n",
    "        result_list[ii] = sum(B_list*np.sin(index_list*t + beta_list))\n",
    "    constraint = max(result_list)\n",
    "    return gamma0 > constraint\n",
    "\n",
    "\n",
    "print(passivity_metric(gamma0, (B_list[:dim]), beta_list[:dim]))\n",
    "# norm_fac"
   ]
  },
  {
   "cell_type": "code",
   "execution_count": 29,
   "id": "e1f38329",
   "metadata": {},
   "outputs": [
    {
     "data": {
      "image/png": "[encoded data removed]",
      "text/plain": [
       "<Figure size 432x288 with 1 Axes>"
      ]
     },
     "metadata": {
      "needs_background": "light"
     },
     "output_type": "display_data"
    }
   ],
   "source": [
    "fig, axs = plt.subplots()\n",
    "ax0 = axs\n",
    "# result 2\n",
    "cut_site = 120\n",
    "plt.bar(np.arange(0, len(A_list[:cut_site]),1)+1, A_list[:cut_site]*gamma_e_t_R, fc = 'r', width = 1, label = '$A_m$')\n",
    "plt.bar(np.arange(0, len(A_list[:cut_site]),1)+1 + 0.5, B_list[:cut_site]*gamma_e_t_R, fc = 'b',  width = 1, label = '$B_m$')\n",
    "# plt.plot(np.arange(0, len(A_list[:cut_site]),1)+1, A_list[:cut_site]*gamma_e_t_R, color='red', linewidth=2)\n",
    "\n",
    "# plt.legend(prop={'size': 20})\n",
    "plt.legend(frameon=False, loc='lower right',prop={'size': 20})\n",
    "\n",
    "plt.rc('xtick', labelsize=28)\n",
    "plt.rc('ytick', labelsize=28)\n",
    "plt.rcParams['font.family'] = 'Times New Roman'\n",
    "# ax0.set_yticks([0, -0.5, 0.5, 1])\n",
    "# ax0.set_xticks([1, 26, 52])\n",
    "# plt.ylim([-0.8, 1])\n",
    "plt.savefig('result_all_correct_Mar11/Figure4_Amplitude_right_Ix_Mar25.pdf', bbox_inches='tight')\n",
    "plt.show()"
   ]
  },
  {
   "cell_type": "code",
   "execution_count": 17,
   "id": "114af3d7",
   "metadata": {},
   "outputs": [],
   "source": [
    "\n",
    "def givenKerBig_conv_results_Nov18(image, kernel_big_mat_final):\n",
    "    # kernel_given\n",
    "\n",
    "    # this is given the kernel\n",
    "    # how you pad\n",
    "    input_image = np.pad(image,((1, 1), (1, 1)),'constant')\n",
    "    img_arr = input_image.flatten()\n",
    "#     dim = input_image.shape[0]*input_image.shape[1]\n",
    "#     kernel_big_mat_final = populate_matrix_posNeg_Nov17(dim, kernel_arr_neg, \n",
    "#                                                         kernel_arr_pos, kernel_0)\n",
    "    mat_ops_arr_final = kernel_big_mat_final.dot(img_arr)\n",
    "\n",
    "    mat_output = mat_ops_arr_final.reshape(-1, input_image.shape[1])\n",
    "    mat_output = mat_output[1:-1,1:-1]\n",
    "    return mat_output, mat_ops_arr_final\n"
   ]
  },
  {
   "cell_type": "code",
   "execution_count": 18,
   "id": "caa196a4",
   "metadata": {},
   "outputs": [
    {
     "name": "stdout",
     "output_type": "stream",
     "text": [
      "1.7710490362608182\n"
     ]
    }
   ],
   "source": [
    "output_generate_image,_ = givenKerBig_conv_results_Nov18(image, kernel_big_built)\n",
    "\n",
    "print(np.max(abs(kernel_big_built - kernel_big_mat)))"
   ]
  },
  {
   "cell_type": "code",
   "execution_count": 19,
   "id": "c7bfac70",
   "metadata": {},
   "outputs": [
    {
     "data": {
      "image/png": "[encoded data removed]",
      "text/plain": [
       "<Figure size 432x288 with 2 Axes>"
      ]
     },
     "metadata": {
      "needs_background": "light"
     },
     "output_type": "display_data"
    }
   ],
   "source": [
    "plt.imshow(output_generate_image.real, cmap = 'gray')\n",
    "plt.axis('off')\n",
    "plt.colorbar()\n",
    "plt.savefig('result_all_correct_Mar11/Figure4_generate_image_Ix_Mar25.pdf', bbox_inches='tight')\n",
    "plt.show()\n",
    "#"
   ]
  },
  {
   "cell_type": "code",
   "execution_count": 20,
   "id": "3c617a44",
   "metadata": {},
   "outputs": [
    {
     "name": "stderr",
     "output_type": "stream",
     "text": [
      "<ipython-input-20-8bedc667daa8>:10: ComplexWarning: Casting complex values to real discards the imaginary part\n",
      "  amplitude_list[ii] = sum(B_list[:220]*gamma_e_t_R*np.sin(index_list*t + beta_list[:220]))-gamma0*gamma_e_t_R\n"
     ]
    }
   ],
   "source": [
    "# modulation\n",
    "t_list = np.linspace(0, 2*np.pi, num=1000, endpoint=True)\n",
    "amplitude_list = np.zeros(t_list.shape)\n",
    "phase_list = np.zeros(t_list.shape)\n",
    "\n",
    "# for all the t find the max of this\n",
    "index_list = np.arange(0, len(B_list[:220]),1)+1\n",
    "for ii, t in enumerate(t_list):\n",
    "    \n",
    "    amplitude_list[ii] = sum(B_list[:220]*gamma_e_t_R*np.sin(index_list*t + beta_list[:220]))-gamma0*gamma_e_t_R\n",
    "    phase_list[ii] = sum(A_list[:220]*gamma_e_t_R*np.cos(index_list*t + alpha_list[:220]))\n"
   ]
  },
  {
   "cell_type": "code",
   "execution_count": 31,
   "id": "b2658a81",
   "metadata": {},
   "outputs": [
    {
     "data": {
      "image/png": "[encoded data removed]",
      "text/plain": [
       "<Figure size 432x288 with 1 Axes>"
      ]
     },
     "metadata": {
      "needs_background": "light"
     },
     "output_type": "display_data"
    }
   ],
   "source": [
    "fig, axs = plt.subplots()\n",
    "ax0 = axs\n",
    "\n",
    "plt.plot(t_list/(2*np.pi), phase_list,'r',linewidth=2.0, label = 'Phase')\n",
    "plt.plot(t_list/2/np.pi, amplitude_list, 'b',linewidth=2.0, label = 'Amplitude')\n",
    "\n",
    "plt.legend(frameon=False, loc='upper right', prop={'size': 20})\n",
    "plt.rc('xtick', labelsize=28)\n",
    "plt.rc('ytick', labelsize=28)\n",
    "plt.rcParams['font.family'] = 'Times New Roman'\n",
    "ax0.set_yticks([0, -0.4, 0.4])\n",
    "plt.ylim([-0.4, 0.5])\n",
    "# ax0.set_xticks([0, np.pi, np.pi*2])\n",
    "plt.savefig('result_all_correct_Mar11/Figure4_modulated_form_Ix_Mar25.pdf', bbox_inches='tight')\n",
    "plt.show()"
   ]
  },
  {
   "cell_type": "code",
   "execution_count": null,
   "id": "bff44cfd",
   "metadata": {},
   "outputs": [],
   "source": []
  },
  {
   "cell_type": "code",
   "execution_count": null,
   "id": "b030f482",
   "metadata": {},
   "outputs": [],
   "source": []
  }
 ],
 "metadata": {
  "kernelspec": {
   "display_name": "Python 3",
   "language": "python",
   "name": "python3"
  },
  "language_info": {
   "codemirror_mode": {
    "name": "ipython",
    "version": 3
   },
   "file_extension": ".py",
   "mimetype": "text/x-python",
   "name": "python",
   "nbconvert_exporter": "python",
   "pygments_lexer": "ipython3",
   "version": "3.8.8"
  }
 },
 "nbformat": 4,
 "nbformat_minor": 5
}
